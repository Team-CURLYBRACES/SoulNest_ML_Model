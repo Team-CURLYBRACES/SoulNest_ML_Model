{
 "cells": [
  {
   "cell_type": "code",
   "execution_count": 2,
   "id": "584d63d2",
   "metadata": {},
   "outputs": [
    {
     "name": "stdout",
     "output_type": "stream",
     "text": [
      "Collecting en-core-web-sm==3.7.1\n",
      "  Using cached https://github.com/explosion/spacy-models/releases/download/en_core_web_sm-3.7.1/en_core_web_sm-3.7.1-py3-none-any.whl (12.8 MB)\n",
      "Requirement already satisfied: spacy<3.8.0,>=3.7.2 in c:\\users\\dell\\anaconda3\\lib\\site-packages (from en-core-web-sm==3.7.1) (3.7.4)\n",
      "Requirement already satisfied: spacy-legacy<3.1.0,>=3.0.11 in c:\\users\\dell\\anaconda3\\lib\\site-packages (from spacy<3.8.0,>=3.7.2->en-core-web-sm==3.7.1) (3.0.12)\n",
      "Requirement already satisfied: spacy-loggers<2.0.0,>=1.0.0 in c:\\users\\dell\\anaconda3\\lib\\site-packages (from spacy<3.8.0,>=3.7.2->en-core-web-sm==3.7.1) (1.0.5)\n",
      "Requirement already satisfied: murmurhash<1.1.0,>=0.28.0 in c:\\users\\dell\\anaconda3\\lib\\site-packages (from spacy<3.8.0,>=3.7.2->en-core-web-sm==3.7.1) (1.0.10)\n",
      "Requirement already satisfied: cymem<2.1.0,>=2.0.2 in c:\\users\\dell\\anaconda3\\lib\\site-packages (from spacy<3.8.0,>=3.7.2->en-core-web-sm==3.7.1) (2.0.8)\n",
      "Requirement already satisfied: preshed<3.1.0,>=3.0.2 in c:\\users\\dell\\anaconda3\\lib\\site-packages (from spacy<3.8.0,>=3.7.2->en-core-web-sm==3.7.1) (3.0.9)\n",
      "Requirement already satisfied: thinc<8.3.0,>=8.2.2 in c:\\users\\dell\\anaconda3\\lib\\site-packages (from spacy<3.8.0,>=3.7.2->en-core-web-sm==3.7.1) (8.2.3)\n",
      "Requirement already satisfied: wasabi<1.2.0,>=0.9.1 in c:\\users\\dell\\anaconda3\\lib\\site-packages (from spacy<3.8.0,>=3.7.2->en-core-web-sm==3.7.1) (1.1.2)\n",
      "Requirement already satisfied: srsly<3.0.0,>=2.4.3 in c:\\users\\dell\\anaconda3\\lib\\site-packages (from spacy<3.8.0,>=3.7.2->en-core-web-sm==3.7.1) (2.4.8)\n",
      "Requirement already satisfied: catalogue<2.1.0,>=2.0.6 in c:\\users\\dell\\anaconda3\\lib\\site-packages (from spacy<3.8.0,>=3.7.2->en-core-web-sm==3.7.1) (2.0.10)\n",
      "Requirement already satisfied: weasel<0.4.0,>=0.1.0 in c:\\users\\dell\\anaconda3\\lib\\site-packages (from spacy<3.8.0,>=3.7.2->en-core-web-sm==3.7.1) (0.3.4)\n",
      "Requirement already satisfied: typer<0.10.0,>=0.3.0 in c:\\users\\dell\\anaconda3\\lib\\site-packages (from spacy<3.8.0,>=3.7.2->en-core-web-sm==3.7.1) (0.9.0)\n",
      "Requirement already satisfied: smart-open<7.0.0,>=5.2.1 in c:\\users\\dell\\anaconda3\\lib\\site-packages (from spacy<3.8.0,>=3.7.2->en-core-web-sm==3.7.1) (5.2.1)\n",
      "Requirement already satisfied: tqdm<5.0.0,>=4.38.0 in c:\\users\\dell\\anaconda3\\lib\\site-packages (from spacy<3.8.0,>=3.7.2->en-core-web-sm==3.7.1) (4.65.0)\n",
      "Requirement already satisfied: requests<3.0.0,>=2.13.0 in c:\\users\\dell\\anaconda3\\lib\\site-packages (from spacy<3.8.0,>=3.7.2->en-core-web-sm==3.7.1) (2.31.0)\n",
      "Requirement already satisfied: pydantic!=1.8,!=1.8.1,<3.0.0,>=1.7.4 in c:\\users\\dell\\anaconda3\\lib\\site-packages (from spacy<3.8.0,>=3.7.2->en-core-web-sm==3.7.1) (1.10.8)\n",
      "Requirement already satisfied: jinja2 in c:\\users\\dell\\anaconda3\\lib\\site-packages (from spacy<3.8.0,>=3.7.2->en-core-web-sm==3.7.1) (3.1.2)\n",
      "Requirement already satisfied: setuptools in c:\\users\\dell\\anaconda3\\lib\\site-packages (from spacy<3.8.0,>=3.7.2->en-core-web-sm==3.7.1) (68.0.0)\n",
      "Requirement already satisfied: packaging>=20.0 in c:\\users\\dell\\anaconda3\\lib\\site-packages (from spacy<3.8.0,>=3.7.2->en-core-web-sm==3.7.1) (23.1)\n",
      "Requirement already satisfied: langcodes<4.0.0,>=3.2.0 in c:\\users\\dell\\anaconda3\\lib\\site-packages (from spacy<3.8.0,>=3.7.2->en-core-web-sm==3.7.1) (3.3.0)\n",
      "Requirement already satisfied: numpy>=1.19.0 in c:\\users\\dell\\anaconda3\\lib\\site-packages (from spacy<3.8.0,>=3.7.2->en-core-web-sm==3.7.1) (1.24.3)\n",
      "Requirement already satisfied: typing-extensions>=4.2.0 in c:\\users\\dell\\anaconda3\\lib\\site-packages (from pydantic!=1.8,!=1.8.1,<3.0.0,>=1.7.4->spacy<3.8.0,>=3.7.2->en-core-web-sm==3.7.1) (4.7.1)\n",
      "Requirement already satisfied: charset-normalizer<4,>=2 in c:\\users\\dell\\anaconda3\\lib\\site-packages (from requests<3.0.0,>=2.13.0->spacy<3.8.0,>=3.7.2->en-core-web-sm==3.7.1) (2.0.4)\n",
      "Requirement already satisfied: idna<4,>=2.5 in c:\\users\\dell\\anaconda3\\lib\\site-packages (from requests<3.0.0,>=2.13.0->spacy<3.8.0,>=3.7.2->en-core-web-sm==3.7.1) (3.4)\n",
      "Requirement already satisfied: urllib3<3,>=1.21.1 in c:\\users\\dell\\anaconda3\\lib\\site-packages (from requests<3.0.0,>=2.13.0->spacy<3.8.0,>=3.7.2->en-core-web-sm==3.7.1) (1.26.16)\n",
      "Requirement already satisfied: certifi>=2017.4.17 in c:\\users\\dell\\anaconda3\\lib\\site-packages (from requests<3.0.0,>=2.13.0->spacy<3.8.0,>=3.7.2->en-core-web-sm==3.7.1) (2023.7.22)\n",
      "Requirement already satisfied: blis<0.8.0,>=0.7.8 in c:\\users\\dell\\anaconda3\\lib\\site-packages (from thinc<8.3.0,>=8.2.2->spacy<3.8.0,>=3.7.2->en-core-web-sm==3.7.1) (0.7.11)\n",
      "Requirement already satisfied: confection<1.0.0,>=0.0.1 in c:\\users\\dell\\anaconda3\\lib\\site-packages (from thinc<8.3.0,>=8.2.2->spacy<3.8.0,>=3.7.2->en-core-web-sm==3.7.1) (0.1.4)\n",
      "Requirement already satisfied: colorama in c:\\users\\dell\\anaconda3\\lib\\site-packages (from tqdm<5.0.0,>=4.38.0->spacy<3.8.0,>=3.7.2->en-core-web-sm==3.7.1) (0.4.6)\n",
      "Requirement already satisfied: click<9.0.0,>=7.1.1 in c:\\users\\dell\\anaconda3\\lib\\site-packages (from typer<0.10.0,>=0.3.0->spacy<3.8.0,>=3.7.2->en-core-web-sm==3.7.1) (8.0.4)\n",
      "Requirement already satisfied: cloudpathlib<0.17.0,>=0.7.0 in c:\\users\\dell\\anaconda3\\lib\\site-packages (from weasel<0.4.0,>=0.1.0->spacy<3.8.0,>=3.7.2->en-core-web-sm==3.7.1) (0.16.0)\n",
      "Requirement already satisfied: MarkupSafe>=2.0 in c:\\users\\dell\\anaconda3\\lib\\site-packages (from jinja2->spacy<3.8.0,>=3.7.2->en-core-web-sm==3.7.1) (2.1.1)\n",
      "\u001b[38;5;2m[+] Download and installation successful\u001b[0m\n",
      "You can now load the package via spacy.load('en_core_web_sm')\n"
     ]
    }
   ],
   "source": [
    "!python -m spacy download en_core_web_sm"
   ]
  },
  {
   "cell_type": "code",
   "execution_count": 1,
   "id": "e9e3142d",
   "metadata": {},
   "outputs": [],
   "source": [
    "import pandas as pd\n",
    "import spacy\n",
    "from sklearn.model_selection import train_test_split\n",
    "from sklearn.feature_extraction.text import CountVectorizer\n",
    "from sklearn.preprocessing import LabelEncoder"
   ]
  },
  {
   "cell_type": "code",
   "execution_count": 8,
   "id": "4fadd291",
   "metadata": {},
   "outputs": [
    {
     "data": {
      "text/html": [
       "<div>\n",
       "<style scoped>\n",
       "    .dataframe tbody tr th:only-of-type {\n",
       "        vertical-align: middle;\n",
       "    }\n",
       "\n",
       "    .dataframe tbody tr th {\n",
       "        vertical-align: top;\n",
       "    }\n",
       "\n",
       "    .dataframe thead th {\n",
       "        text-align: right;\n",
       "    }\n",
       "</style>\n",
       "<table border=\"1\" class=\"dataframe\">\n",
       "  <thead>\n",
       "    <tr style=\"text-align: right;\">\n",
       "      <th></th>\n",
       "      <th>Response</th>\n",
       "      <th>Stress label</th>\n",
       "    </tr>\n",
       "  </thead>\n",
       "  <tbody>\n",
       "    <tr>\n",
       "      <th>0</th>\n",
       "      <td>I have a presentation tomorrow, and I can't st...</td>\n",
       "      <td>Stress</td>\n",
       "    </tr>\n",
       "    <tr>\n",
       "      <th>1</th>\n",
       "      <td>My partner is always criticizing me, and it's ...</td>\n",
       "      <td>Stress</td>\n",
       "    </tr>\n",
       "    <tr>\n",
       "      <th>2</th>\n",
       "      <td>I feel like I'm drowning in work. No matter ho...</td>\n",
       "      <td>Stress</td>\n",
       "    </tr>\n",
       "    <tr>\n",
       "      <th>3</th>\n",
       "      <td>I keep making mistakes at work, and it's makin...</td>\n",
       "      <td>Stress</td>\n",
       "    </tr>\n",
       "    <tr>\n",
       "      <th>4</th>\n",
       "      <td>I'm so overwhelmed with all my responsibilitie...</td>\n",
       "      <td>Stress</td>\n",
       "    </tr>\n",
       "    <tr>\n",
       "      <th>...</th>\n",
       "      <td>...</td>\n",
       "      <td>...</td>\n",
       "    </tr>\n",
       "    <tr>\n",
       "      <th>512</th>\n",
       "      <td>Just found out my favorite book is being adapt...</td>\n",
       "      <td>Normal</td>\n",
       "    </tr>\n",
       "    <tr>\n",
       "      <th>513</th>\n",
       "      <td>Successfully completed a challenging puzzle. T...</td>\n",
       "      <td>Normal</td>\n",
       "    </tr>\n",
       "    <tr>\n",
       "      <th>514</th>\n",
       "      <td>Booked tickets for a weekend getaway to the mo...</td>\n",
       "      <td>Normal</td>\n",
       "    </tr>\n",
       "    <tr>\n",
       "      <th>515</th>\n",
       "      <td>Finished reading a captivating novel. The imme...</td>\n",
       "      <td>Normal</td>\n",
       "    </tr>\n",
       "    <tr>\n",
       "      <th>516</th>\n",
       "      <td>Binge-watched my favorite series all night. Th...</td>\n",
       "      <td>Normal</td>\n",
       "    </tr>\n",
       "  </tbody>\n",
       "</table>\n",
       "<p>517 rows × 2 columns</p>\n",
       "</div>"
      ],
      "text/plain": [
       "                                              Response Stress label\n",
       "0    I have a presentation tomorrow, and I can't st...       Stress\n",
       "1    My partner is always criticizing me, and it's ...       Stress\n",
       "2    I feel like I'm drowning in work. No matter ho...       Stress\n",
       "3    I keep making mistakes at work, and it's makin...       Stress\n",
       "4    I'm so overwhelmed with all my responsibilitie...       Stress\n",
       "..                                                 ...          ...\n",
       "512  Just found out my favorite book is being adapt...       Normal\n",
       "513  Successfully completed a challenging puzzle. T...       Normal\n",
       "514  Booked tickets for a weekend getaway to the mo...       Normal\n",
       "515  Finished reading a captivating novel. The imme...       Normal\n",
       "516  Binge-watched my favorite series all night. Th...       Normal\n",
       "\n",
       "[517 rows x 2 columns]"
      ]
     },
     "execution_count": 8,
     "metadata": {},
     "output_type": "execute_result"
    }
   ],
   "source": [
    "# Loading the dataset\n",
    "df = pd.read_csv('../Stress_Dataset_518rows.csv')\n",
    "df"
   ]
  },
  {
   "cell_type": "code",
   "execution_count": 9,
   "id": "13fbdbda",
   "metadata": {},
   "outputs": [
    {
     "data": {
      "text/plain": [
       "<spacy.lang.en.English at 0x21085e0f650>"
      ]
     },
     "execution_count": 9,
     "metadata": {},
     "output_type": "execute_result"
    }
   ],
   "source": [
    "# Instantiating the english module\n",
    "nlp = spacy.load('en_core_web_sm')\n",
    "nlp"
   ]
  },
  {
   "cell_type": "code",
   "execution_count": 10,
   "id": "bef48aa8",
   "metadata": {},
   "outputs": [],
   "source": [
    "# Creating the pipeline sentensizer to read the punctuations in the text\n",
    "sbd = nlp.create_pipe(\"sentencizer\")"
   ]
  },
  {
   "cell_type": "code",
   "execution_count": 11,
   "id": "6d9dbfed",
   "metadata": {},
   "outputs": [
    {
     "data": {
      "text/plain": [
       "<spacy.pipeline.sentencizer.Sentencizer at 0x21086235490>"
      ]
     },
     "execution_count": 11,
     "metadata": {},
     "output_type": "execute_result"
    }
   ],
   "source": [
    "# Adding the component to the pipeline\n",
    "nlp.add_pipe(\"sentencizer\")"
   ]
  },
  {
   "cell_type": "code",
   "execution_count": 12,
   "id": "bea21dac",
   "metadata": {},
   "outputs": [],
   "source": [
    "# Sample text\n",
    "text=\"I'm going through some things with my feelings and myself. I barely sleep and I do nothing but think about how I'm worthless and how I shouldn't be here. I've never tried or contemplated suicide. I've always wanted to fix my issues, but I never get around to it. How can I change my feeling of being worthless to everyone?\""
   ]
  },
  {
   "cell_type": "code",
   "execution_count": 13,
   "id": "6d847a6d",
   "metadata": {},
   "outputs": [],
   "source": [
    "# Creating a text object to carry out the tokens\n",
    "doc = nlp(text)"
   ]
  },
  {
   "cell_type": "code",
   "execution_count": 14,
   "id": "ecc6e99a",
   "metadata": {},
   "outputs": [
    {
     "name": "stdout",
     "output_type": "stream",
     "text": [
      "[I'm going through some things with my feelings and myself., I barely sleep and I do nothing but think about how I'm worthless and how I shouldn't be here., I've never tried or contemplated suicide., I've always wanted to fix my issues, but I never get around to it., How can I change my feeling of being worthless to everyone?]\n"
     ]
    }
   ],
   "source": [
    "# Creating and updating list of tokens using list comprehession / tokenization\n",
    "tokens = [token for token in doc.sents]\n",
    "print(tokens)"
   ]
  },
  {
   "cell_type": "code",
   "execution_count": 15,
   "id": "0c5202a1",
   "metadata": {},
   "outputs": [
    {
     "name": "stdout",
     "output_type": "stream",
     "text": [
      "[['I', 'I'], [\"'m\", 'be'], ['going', 'go'], ['through', 'through'], ['some', 'some'], ['things', 'thing'], ['with', 'with'], ['my', 'my'], ['feelings', 'feeling'], ['and', 'and'], ['myself', 'myself'], ['.', '.'], ['I', 'I'], ['barely', 'barely'], ['sleep', 'sleep'], ['and', 'and'], ['I', 'I'], ['do', 'do'], ['nothing', 'nothing'], ['but', 'but'], ['think', 'think'], ['about', 'about'], ['how', 'how'], ['I', 'I'], [\"'m\", 'be'], ['worthless', 'worthless'], ['and', 'and'], ['how', 'how'], ['I', 'I'], ['should', 'should'], [\"n't\", 'not'], ['be', 'be'], ['here', 'here'], ['.', '.'], ['I', 'I'], [\"'ve\", 'have'], ['never', 'never'], ['tried', 'try'], ['or', 'or'], ['contemplated', 'contemplate'], ['suicide', 'suicide'], ['.', '.'], ['I', 'I'], [\"'ve\", 'have'], ['always', 'always'], ['wanted', 'want'], ['to', 'to'], ['fix', 'fix'], ['my', 'my'], ['issues', 'issue'], [',', ','], ['but', 'but'], ['I', 'I'], ['never', 'never'], ['get', 'get'], ['around', 'around'], ['to', 'to'], ['it', 'it'], ['.', '.'], ['How', 'how'], ['can', 'can'], ['I', 'I'], ['change', 'change'], ['my', 'my'], ['feeling', 'feeling'], ['of', 'of'], ['being', 'be'], ['worthless', 'worthless'], ['to', 'to'], ['everyone', 'everyone'], ['?', '?']]\n"
     ]
    }
   ],
   "source": [
    "# Creating and updating our list of tokens using list comprehension / lemmitization\n",
    "tokens = [[token.text,token.lemma_] for token in doc]\n",
    "print(tokens)"
   ]
  },
  {
   "cell_type": "code",
   "execution_count": 16,
   "id": "674c7570",
   "metadata": {},
   "outputs": [
    {
     "name": "stdout",
     "output_type": "stream",
     "text": [
      "{'something', 'elsewhere', 'bottom', 'call', 'what', 'whereas', 'regarding', 'we', 'becomes', 'if', 'anyone', 'you', 'hereupon', 'however', 'became', 'seems', 'two', 'not', '’ll', 'same', 'first', 'which', 'them', 'thru', 'from', '‘s', 'noone', 'up', 'than', 'so', 'eleven', 'before', 'everything', 'whenever', 'four', 'herein', 'get', 'three', 'the', 'formerly', 'whole', 'must', 'made', 'indeed', 'one', 'whose', 'though', 'itself', 'via', 'these', 'five', 'else', 'yet', 'has', 'several', 'amongst', 'beforehand', 'ourselves', 'just', 'upon', 'even', 'please', 'once', 'your', \"'ll\", 'anything', 'whereupon', 'between', 'whether', 'next', 'rather', 'do', 'somewhere', 'take', '‘m', 'perhaps', 'name', 'due', 'are', 'besides', 'being', 'twelve', 'some', 'could', '‘ve', 'there', 'many', 'therefore', 'yourselves', 'where', 'across', 'now', 'others', 'still', 'on', 'thus', 'say', 'quite', 'had', 'hers', 'someone', 'unless', 'below', 'onto', 'fifty', 'former', '’s', \"'d\", 'enough', 'among', 'towards', 'around', 'yours', 'anyhow', 'have', 'a', 'thereby', 'wherever', 'further', 'nobody', 'seeming', 'were', 'become', 'of', 'those', 'too', 'always', 'he', 'put', 'six', \"'s\", 'beside', 'him', 'serious', 'somehow', 'done', 'whoever', 'really', 'make', 'out', 'here', 'such', 'becoming', 'no', 'empty', 'for', 'she', 'without', 'forty', 'in', 'against', 'few', 'per', 'ca', 'thence', 'themselves', \"n't\", 'back', 'then', \"'re\", 'been', 'part', 'ten', 'sixty', 'hundred', 'because', 'how', 'whatever', 'only', 'when', 'whereafter', 'nothing', 'none', 'will', 'front', 'nevertheless', 'his', 'using', 'see', 'herself', 'along', '‘ll', 'whereby', 'i', 'except', 'myself', 'again', 'did', 'wherein', 'to', 'who', 'n‘t', 'nor', 'more', 'their', 'nine', 'my', 'anyway', 'either', 'anywhere', 'does', 'any', 'yourself', 'side', 'latter', 'or', 'much', 'above', 'go', 'may', 'cannot', 'every', 'third', 'least', 'give', 'was', 'after', 'but', 'most', 'ours', \"'ve\", 'throughout', 'whom', 'less', 'fifteen', 'already', 'mostly', 'move', 'sometimes', 'as', 'since', 'used', 'various', 'sometime', 'hereafter', 'ever', 're', 'its', 'whither', 'each', 'over', 'her', 'be', 'at', '’re', 'namely', 'afterwards', 'thereafter', 'that', 'both', 'am', 'everyone', 'while', 'whence', 'all', 'n’t', 'with', 'me', 'eight', 'by', 'hereby', 'show', 'twenty', 'off', '’d', 'would', 'about', 'us', 'moreover', 'alone', 'seemed', 'this', 'an', 'why', 'can', 'together', 'down', 'also', 'full', 'often', 'it', 'within', 'amount', 'otherwise', 'through', 'should', 'although', 'thereupon', '‘d', 'hence', 'they', 'well', 'very', 'himself', '’ve', 'meanwhile', 'into', '’m', 'beyond', 'seem', 'our', 'own', 'neither', 'another', 'keep', 'top', 'mine', 'and', 'everywhere', 'doing', 'almost', 'latterly', 'is', 'might', \"'m\", 'under', 'other', 'until', 'never', '‘re', 'last', 'therein', 'behind', 'during', 'nowhere', 'toward'}\n"
     ]
    }
   ],
   "source": [
    "# Removing stop words from the words list\n",
    "from spacy.lang.en.stop_words import STOP_WORDS\n",
    "stop = STOP_WORDS\n",
    "print(stop)"
   ]
  },
  {
   "cell_type": "code",
   "execution_count": 17,
   "id": "0580b58e",
   "metadata": {},
   "outputs": [
    {
     "name": "stdout",
     "output_type": "stream",
     "text": [
      "['going', 'things', 'feelings', 'barely', 'sleep', 'think', 'worthless', 'tried', 'contemplated', 'suicide', 'wanted', 'fix', 'issues', 'change', 'feeling', 'worthless']\n"
     ]
    }
   ],
   "source": [
    "# \n",
    "filtered = [token.text for token in doc if token.is_stop == False and       \n",
    "token.text.isalpha() == True]\n",
    "\n",
    "print(filtered)"
   ]
  },
  {
   "cell_type": "code",
   "execution_count": null,
   "id": "79022736",
   "metadata": {},
   "outputs": [],
   "source": []
  }
 ],
 "metadata": {
  "kernelspec": {
   "display_name": "Python 3 (ipykernel)",
   "language": "python",
   "name": "python3"
  },
  "language_info": {
   "codemirror_mode": {
    "name": "ipython",
    "version": 3
   },
   "file_extension": ".py",
   "mimetype": "text/x-python",
   "name": "python",
   "nbconvert_exporter": "python",
   "pygments_lexer": "ipython3",
   "version": "3.11.5"
  }
 },
 "nbformat": 4,
 "nbformat_minor": 5
}
